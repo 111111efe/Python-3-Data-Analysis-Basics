{
  "nbformat": 4,
  "nbformat_minor": 0,
  "metadata": {
    "colab": {
      "name": "NN01.ipynb",
      "provenance": [],
      "authorship_tag": "ABX9TyO4ikq3dvEFbrTdyCFeiGDj",
      "include_colab_link": true
    },
    "kernelspec": {
      "name": "python3",
      "display_name": "Python 3"
    },
    "accelerator": "GPU"
  },
  "cells": [
    {
      "cell_type": "markdown",
      "metadata": {
        "id": "view-in-github",
        "colab_type": "text"
      },
      "source": [
        "<a href=\"https://colab.research.google.com/github/yenlung/Python-3-Data-Analysis-Basics/blob/master/2020%E5%B7%A5%E7%A0%94%E9%99%A2Python%E6%95%B8%E6%93%9A%E5%88%86%E6%9E%90/Colab_NN01.ipynb\" target=\"_parent\"><img src=\"https://colab.research.google.com/assets/colab-badge.svg\" alt=\"Open In Colab\"/></a>"
      ]
    },
    {
      "cell_type": "code",
      "metadata": {
        "id": "inJG6cd13SwP",
        "colab_type": "code",
        "colab": {
          "base_uri": "https://localhost:8080/",
          "height": 88
        },
        "outputId": "3169fecb-d4a1-423f-f2f9-1c3871a9881b"
      },
      "source": [
        "%tensorflow_version"
      ],
      "execution_count": 1,
      "outputs": [
        {
          "output_type": "stream",
          "text": [
            "Currently selected TF version: 2.x\n",
            "Available versions:\n",
            "* 1.x\n",
            "* 2.x\n"
          ],
          "name": "stdout"
        }
      ]
    },
    {
      "cell_type": "code",
      "metadata": {
        "id": "mqTQS1uFE4a6",
        "colab_type": "code",
        "colab": {}
      },
      "source": [
        ""
      ],
      "execution_count": 0,
      "outputs": []
    },
    {
      "cell_type": "code",
      "metadata": {
        "id": "q7MIDCE_3yIS",
        "colab_type": "code",
        "colab": {}
      },
      "source": [
        "%matplotlib inline\n",
        "\n",
        "import numpy as np\n",
        "import matplotlib.pyplot as plt"
      ],
      "execution_count": 0,
      "outputs": []
    },
    {
      "cell_type": "code",
      "metadata": {
        "id": "9iKl17Qo3-jc",
        "colab_type": "code",
        "colab": {}
      },
      "source": [
        "from tensorflow.keras.datasets import mnist"
      ],
      "execution_count": 0,
      "outputs": []
    },
    {
      "cell_type": "code",
      "metadata": {
        "id": "scCb3TJH4Pi-",
        "colab_type": "code",
        "colab": {
          "base_uri": "https://localhost:8080/",
          "height": 72
        },
        "outputId": "7610f57f-a499-45d8-fb14-f3d79b7eb590"
      },
      "source": [
        "(x_train, y_train), (x_test, y_test) = mnist.load_data()"
      ],
      "execution_count": 4,
      "outputs": [
        {
          "output_type": "stream",
          "text": [
            "Downloading data from https://storage.googleapis.com/tensorflow/tf-keras-datasets/mnist.npz\n",
            "11493376/11490434 [==============================] - 0s 0us/step\n"
          ],
          "name": "stdout"
        }
      ]
    },
    {
      "cell_type": "code",
      "metadata": {
        "id": "5w5fOJ0k4igV",
        "colab_type": "code",
        "colab": {
          "base_uri": "https://localhost:8080/",
          "height": 35
        },
        "outputId": "c6f29950-a287-439d-cc62-00537dfbc4b5"
      },
      "source": [
        "len(x_train)"
      ],
      "execution_count": 5,
      "outputs": [
        {
          "output_type": "execute_result",
          "data": {
            "text/plain": [
              "60000"
            ]
          },
          "metadata": {
            "tags": []
          },
          "execution_count": 5
        }
      ]
    },
    {
      "cell_type": "code",
      "metadata": {
        "id": "a472rNsi4qej",
        "colab_type": "code",
        "colab": {
          "base_uri": "https://localhost:8080/",
          "height": 35
        },
        "outputId": "5f8cf62a-afdd-4549-f5fd-c96053acf022"
      },
      "source": [
        "len(x_test)"
      ],
      "execution_count": 6,
      "outputs": [
        {
          "output_type": "execute_result",
          "data": {
            "text/plain": [
              "10000"
            ]
          },
          "metadata": {
            "tags": []
          },
          "execution_count": 6
        }
      ]
    },
    {
      "cell_type": "code",
      "metadata": {
        "id": "ljo8OP8r4s4b",
        "colab_type": "code",
        "colab": {}
      },
      "source": [
        "n = 1234"
      ],
      "execution_count": 0,
      "outputs": []
    },
    {
      "cell_type": "code",
      "metadata": {
        "id": "GS1EbV5A42cG",
        "colab_type": "code",
        "colab": {
          "base_uri": "https://localhost:8080/",
          "height": 1000
        },
        "outputId": "c2e85ab0-ee72-43a2-c295-1130382e1b03"
      },
      "source": [
        "x_train[n]"
      ],
      "execution_count": 8,
      "outputs": [
        {
          "output_type": "execute_result",
          "data": {
            "text/plain": [
              "array([[  0,   0,   0,   0,   0,   0,   0,   0,   0,   0,   0,   0,   0,\n",
              "          0,   0,   0,   0,   0,   0,   0,   0,   0,   0,   0,   0,   0,\n",
              "          0,   0],\n",
              "       [  0,   0,   0,   0,   0,   0,   0,   0,   0,   0,   0,   0,   0,\n",
              "          0,   0,   0,   0,   0,   0,   0,   0,   0,   0,   0,   0,   0,\n",
              "          0,   0],\n",
              "       [  0,   0,   0,   0,   0,   0,   0,   0,   0,   0,   0,   0,   0,\n",
              "          0,   0,   0,   0,   0,   0,   0,   0,   0,   0,   0,   0,   0,\n",
              "          0,   0],\n",
              "       [  0,   0,   0,   0,   0,   0,   0,   0,   0,   0,   0,   0, 149,\n",
              "        255, 129,  37,   0,   0,   0,   0,   0,   0,   0,   0,   0,   0,\n",
              "          0,   0],\n",
              "       [  0,   0,   0,   0,   0,   0,   0,   0,   0,   0,   0,   0, 149,\n",
              "        253, 252, 215,  60,   7,   0,   0,   0,   0,   0,   0,   0,   0,\n",
              "          0,   0],\n",
              "       [  0,   0,   0,   0,   0,   0,   0,   0,   0,   0,   0,   0,  53,\n",
              "        150, 249, 252, 252,  38,   0,   0,   0,   0,   0,   0,   0,   0,\n",
              "          0,   0],\n",
              "       [  0,   0,   0,   0,   0,   0,   0,   0,   0,   0,   0,   0,   0,\n",
              "          0, 138, 252, 252, 177,   0,   0,   0,   0,   0,   0,   0,   0,\n",
              "          0,   0],\n",
              "       [  0,   0,   0,   0,   0,   0,   0,   0,   0,   0,   0,   0,   0,\n",
              "          0,   7, 129, 252, 243,  65,   0,   0,   0,   0,   0,   0,   0,\n",
              "          0,   0],\n",
              "       [  0,   0,   0,   0,   0,   0,   0,   0,   0,   0,   0,   0,   0,\n",
              "          0,   0,  33, 252, 252,  74,   0,   0,   0,   0,   0,   0,   0,\n",
              "          0,   0],\n",
              "       [  0,   0,   0,   0,   0,   0,   0,   0,   0,   0,   0,   0,   0,\n",
              "          0, 112, 210, 252, 212,  35,   0,   0,   0,   0,   0,   0,   0,\n",
              "          0,   0],\n",
              "       [  0,   0,   0,   0,   0,   0,   0,   0,   0,   0,   0,  69, 177,\n",
              "        240, 249, 252, 252, 177,   0,   0,   0,   0,   0,   0,   0,   0,\n",
              "          0,   0],\n",
              "       [  0,   0,   0,   0,   0,   0,   0,   0,   0,   0,   0, 193, 252,\n",
              "        253, 252, 240,  59,  41,   0,   0,   0,   0,   0,   0,   0,   0,\n",
              "          0,   0],\n",
              "       [  0,   0,   0,   0,   0,   0,   0,   0,   0,   0,   0, 193, 252,\n",
              "        253, 252, 245,  79,   0,   0,   0,   0,   0,   0,   0,   0,   0,\n",
              "          0,   0],\n",
              "       [  0,   0,   0,   0,   0,   0,   0,   0,   0,   0,   0,   0,   0,\n",
              "        149, 173, 253, 253, 178,   0,   0,   0,   0,   0,   0,   0,   0,\n",
              "          0,   0],\n",
              "       [  0,   0,   0,   0,   0,   0,   0,   0,   0,   0,   0,   0,   0,\n",
              "          0,  11, 179, 252, 195,  18,   0,   0,   0,   0,   0,   0,   0,\n",
              "          0,   0],\n",
              "       [  0,   0,   0,   0,   0,   0,   0,   0,   0,   0,   0,   0,   0,\n",
              "          0,   0,  67, 252, 252,  74,   0,   0,   0,   0,   0,   0,   0,\n",
              "          0,   0],\n",
              "       [  0,   0,   0,   0,   0,   0,   0,   0,   0,   0,   0,   0,   0,\n",
              "          0,   0,  15, 252, 252,  74,   0,   0,   0,   0,   0,   0,   0,\n",
              "          0,   0],\n",
              "       [  0,   0,   0,   0,   0,   0,   0,   0,   9, 153,  12,   0,   0,\n",
              "          0,   0,  60, 252, 252,  74,   0,   0,   0,   0,   0,   0,   0,\n",
              "          0,   0],\n",
              "       [  0,   0,   0,   0,   0,   0,   0,   9, 144, 252, 129,   7,   0,\n",
              "          0,   0, 164, 252, 199,  22,   0,   0,   0,   0,   0,   0,   0,\n",
              "          0,   0],\n",
              "       [  0,   0,   0,   0,   0,   0,   0,  75, 252, 252, 252,  59,   0,\n",
              "        134, 134, 210, 252,  99,   0,   0,   0,   0,   0,   0,   0,   0,\n",
              "          0,   0],\n",
              "       [  0,   0,   0,   0,   0,   0,   0,   4,  32, 210, 252, 241, 238,\n",
              "        253, 252, 252, 252,  29,   0,   0,   0,   0,   0,   0,   0,   0,\n",
              "          0,   0],\n",
              "       [  0,   0,   0,   0,   0,   0,   0,   0,   0,  31, 112, 241, 252,\n",
              "        253, 252, 222, 136,   7,   0,   0,   0,   0,   0,   0,   0,   0,\n",
              "          0,   0],\n",
              "       [  0,   0,   0,   0,   0,   0,   0,   0,   0,   0,   0, 106, 252,\n",
              "        253, 216,  36,   0,   0,   0,   0,   0,   0,   0,   0,   0,   0,\n",
              "          0,   0],\n",
              "       [  0,   0,   0,   0,   0,   0,   0,   0,   0,   0,   0,   0,   0,\n",
              "          0,   0,   0,   0,   0,   0,   0,   0,   0,   0,   0,   0,   0,\n",
              "          0,   0],\n",
              "       [  0,   0,   0,   0,   0,   0,   0,   0,   0,   0,   0,   0,   0,\n",
              "          0,   0,   0,   0,   0,   0,   0,   0,   0,   0,   0,   0,   0,\n",
              "          0,   0],\n",
              "       [  0,   0,   0,   0,   0,   0,   0,   0,   0,   0,   0,   0,   0,\n",
              "          0,   0,   0,   0,   0,   0,   0,   0,   0,   0,   0,   0,   0,\n",
              "          0,   0],\n",
              "       [  0,   0,   0,   0,   0,   0,   0,   0,   0,   0,   0,   0,   0,\n",
              "          0,   0,   0,   0,   0,   0,   0,   0,   0,   0,   0,   0,   0,\n",
              "          0,   0],\n",
              "       [  0,   0,   0,   0,   0,   0,   0,   0,   0,   0,   0,   0,   0,\n",
              "          0,   0,   0,   0,   0,   0,   0,   0,   0,   0,   0,   0,   0,\n",
              "          0,   0]], dtype=uint8)"
            ]
          },
          "metadata": {
            "tags": []
          },
          "execution_count": 8
        }
      ]
    },
    {
      "cell_type": "code",
      "metadata": {
        "id": "oTJCBYlv4625",
        "colab_type": "code",
        "colab": {
          "base_uri": "https://localhost:8080/",
          "height": 283
        },
        "outputId": "fac9048b-7829-4f5f-938d-206a076e1283"
      },
      "source": [
        "plt.imshow(x_train[n], cmap='Greys')"
      ],
      "execution_count": 10,
      "outputs": [
        {
          "output_type": "execute_result",
          "data": {
            "text/plain": [
              "<matplotlib.image.AxesImage at 0x7f98c85de588>"
            ]
          },
          "metadata": {
            "tags": []
          },
          "execution_count": 10
        },
        {
          "output_type": "display_data",
          "data": {
            "image/png": "[encoded data removed]",
            "text/plain": [
              "<Figure size 432x288 with 1 Axes>"
            ]
          },
          "metadata": {
            "tags": [],
            "needs_background": "light"
          }
        }
      ]
    },
    {
      "cell_type": "code",
      "metadata": {
        "id": "OdkDfQma5I7u",
        "colab_type": "code",
        "colab": {
          "base_uri": "https://localhost:8080/",
          "height": 35
        },
        "outputId": "95161100-bb17-4687-b6e3-7b51bfeef1ec"
      },
      "source": [
        "x_train[n].shape"
      ],
      "execution_count": 11,
      "outputs": [
        {
          "output_type": "execute_result",
          "data": {
            "text/plain": [
              "(28, 28)"
            ]
          },
          "metadata": {
            "tags": []
          },
          "execution_count": 11
        }
      ]
    },
    {
      "cell_type": "code",
      "metadata": {
        "id": "IrcMkD9w5cu6",
        "colab_type": "code",
        "colab": {
          "base_uri": "https://localhost:8080/",
          "height": 35
        },
        "outputId": "1cf8f651-38b3-4597-cacf-f1a8f25c6fbe"
      },
      "source": [
        "y_train[n]"
      ],
      "execution_count": 12,
      "outputs": [
        {
          "output_type": "execute_result",
          "data": {
            "text/plain": [
              "3"
            ]
          },
          "metadata": {
            "tags": []
          },
          "execution_count": 12
        }
      ]
    },
    {
      "cell_type": "code",
      "metadata": {
        "id": "vKdLjN8w5f3x",
        "colab_type": "code",
        "colab": {
          "base_uri": "https://localhost:8080/",
          "height": 35
        },
        "outputId": "eb168258-c430-40ad-e9fe-4c2de2a0a25f"
      },
      "source": [
        "np.array([43, 3, 12, 44])/44"
      ],
      "execution_count": 16,
      "outputs": [
        {
          "output_type": "execute_result",
          "data": {
            "text/plain": [
              "array([0.97727273, 0.06818182, 0.27272727, 1.        ])"
            ]
          },
          "metadata": {
            "tags": []
          },
          "execution_count": 16
        }
      ]
    },
    {
      "cell_type": "code",
      "metadata": {
        "id": "B5wXq6_R5pma",
        "colab_type": "code",
        "colab": {}
      },
      "source": [
        "x_train = x_train.reshape(60000, 784) / 255\n",
        "x_test = x_test.reshape(10000, 784) / 255"
      ],
      "execution_count": 0,
      "outputs": []
    },
    {
      "cell_type": "code",
      "metadata": {
        "id": "njvsuDSF6V-m",
        "colab_type": "code",
        "colab": {}
      },
      "source": [
        "from tensorflow.keras.utils import to_categorical"
      ],
      "execution_count": 0,
      "outputs": []
    },
    {
      "cell_type": "code",
      "metadata": {
        "id": "krNreGwm6hbM",
        "colab_type": "code",
        "colab": {}
      },
      "source": [
        "y_train = to_categorical(y_train, 10)\n",
        "y_test = to_categorical(y_test, 10)"
      ],
      "execution_count": 0,
      "outputs": []
    },
    {
      "cell_type": "code",
      "metadata": {
        "id": "5NMnGKkn6uYL",
        "colab_type": "code",
        "colab": {
          "base_uri": "https://localhost:8080/",
          "height": 35
        },
        "outputId": "335e1f6b-3aac-4f3c-de62-02faba57a84f"
      },
      "source": [
        "y_train[n]"
      ],
      "execution_count": 20,
      "outputs": [
        {
          "output_type": "execute_result",
          "data": {
            "text/plain": [
              "array([0., 0., 0., 1., 0., 0., 0., 0., 0., 0.], dtype=float32)"
            ]
          },
          "metadata": {
            "tags": []
          },
          "execution_count": 20
        }
      ]
    },
    {
      "cell_type": "markdown",
      "metadata": {
        "id": "y4jD3pgT6u5J",
        "colab_type": "text"
      },
      "source": [
        "3 層\n",
        "100\n",
        "100\n",
        "100"
      ]
    },
    {
      "cell_type": "code",
      "metadata": {
        "id": "IopcZ88G7Fu1",
        "colab_type": "code",
        "colab": {}
      },
      "source": [
        "from tensorflow.keras.models import Sequential\n",
        "from tensorflow.keras.layers import Dense\n",
        "from tensorflow.keras.optimizers import SGD"
      ],
      "execution_count": 0,
      "outputs": []
    },
    {
      "cell_type": "markdown",
      "metadata": {
        "id": "Hgy4tOZL7iH9",
        "colab_type": "text"
      },
      "source": [
        "### step01. 打造函數學習機"
      ]
    },
    {
      "cell_type": "code",
      "metadata": {
        "id": "-h12JvTj7uGW",
        "colab_type": "code",
        "colab": {}
      },
      "source": [
        "model = Sequential()"
      ],
      "execution_count": 0,
      "outputs": []
    },
    {
      "cell_type": "code",
      "metadata": {
        "id": "C3uxR7Qg7yxa",
        "colab_type": "code",
        "colab": {}
      },
      "source": [
        "model.add(Dense(100, input_dim=784, activation='relu'))"
      ],
      "execution_count": 0,
      "outputs": []
    },
    {
      "cell_type": "code",
      "metadata": {
        "id": "xsqsrzN28Hhw",
        "colab_type": "code",
        "colab": {}
      },
      "source": [
        "model.add(Dense(100, activation='relu'))"
      ],
      "execution_count": 0,
      "outputs": []
    },
    {
      "cell_type": "code",
      "metadata": {
        "id": "Tgo9RfDZ8Rsg",
        "colab_type": "code",
        "colab": {}
      },
      "source": [
        "model.add(Dense(100, activation='relu'))"
      ],
      "execution_count": 0,
      "outputs": []
    },
    {
      "cell_type": "code",
      "metadata": {
        "id": "NGsH-V_u8T8V",
        "colab_type": "code",
        "colab": {}
      },
      "source": [
        "model.add(Dense(10, activation='softmax'))"
      ],
      "execution_count": 0,
      "outputs": []
    },
    {
      "cell_type": "code",
      "metadata": {
        "id": "ms_sTiXS8jOo",
        "colab_type": "code",
        "colab": {}
      },
      "source": [
        "model.compile(loss='mse', optimizer=SGD(lr=0.087), metrics=['accuracy'])"
      ],
      "execution_count": 0,
      "outputs": []
    },
    {
      "cell_type": "code",
      "metadata": {
        "id": "VfrGvZ3T9Csn",
        "colab_type": "code",
        "colab": {
          "base_uri": "https://localhost:8080/",
          "height": 300
        },
        "outputId": "21f29d3b-20f7-4b27-b967-ec085a437609"
      },
      "source": [
        "model.summary()"
      ],
      "execution_count": 28,
      "outputs": [
        {
          "output_type": "stream",
          "text": [
            "Model: \"sequential\"\n",
            "_________________________________________________________________\n",
            "Layer (type)                 Output Shape              Param #   \n",
            "=================================================================\n",
            "dense (Dense)                (None, 100)               78500     \n",
            "_________________________________________________________________\n",
            "dense_1 (Dense)              (None, 100)               10100     \n",
            "_________________________________________________________________\n",
            "dense_2 (Dense)              (None, 100)               10100     \n",
            "_________________________________________________________________\n",
            "dense_3 (Dense)              (None, 10)                1010      \n",
            "=================================================================\n",
            "Total params: 99,710\n",
            "Trainable params: 99,710\n",
            "Non-trainable params: 0\n",
            "_________________________________________________________________\n"
          ],
          "name": "stdout"
        }
      ]
    },
    {
      "cell_type": "markdown",
      "metadata": {
        "id": "0iuscAHo9GE7",
        "colab_type": "text"
      },
      "source": [
        "### Step01. fit"
      ]
    },
    {
      "cell_type": "code",
      "metadata": {
        "id": "do5MoInn9SYb",
        "colab_type": "code",
        "colab": {
          "base_uri": "https://localhost:8080/",
          "height": 409
        },
        "outputId": "d4c26b67-ece1-4555-f671-51bb9824d505"
      },
      "source": [
        "model.fit(x_train, y_train, batch_size=100, epochs=10)"
      ],
      "execution_count": 29,
      "outputs": [
        {
          "output_type": "stream",
          "text": [
            "Epoch 1/10\n",
            "600/600 [==============================] - 2s 3ms/step - loss: 0.0846 - accuracy: 0.3598\n",
            "Epoch 2/10\n",
            "600/600 [==============================] - 2s 3ms/step - loss: 0.0578 - accuracy: 0.6267\n",
            "Epoch 3/10\n",
            "600/600 [==============================] - 2s 3ms/step - loss: 0.0313 - accuracy: 0.8171\n",
            "Epoch 4/10\n",
            "600/600 [==============================] - 2s 3ms/step - loss: 0.0207 - accuracy: 0.8790\n",
            "Epoch 5/10\n",
            "600/600 [==============================] - 2s 3ms/step - loss: 0.0172 - accuracy: 0.8943\n",
            "Epoch 6/10\n",
            "600/600 [==============================] - 2s 3ms/step - loss: 0.0155 - accuracy: 0.9026\n",
            "Epoch 7/10\n",
            "600/600 [==============================] - 2s 3ms/step - loss: 0.0143 - accuracy: 0.9091\n",
            "Epoch 8/10\n",
            "600/600 [==============================] - 2s 3ms/step - loss: 0.0135 - accuracy: 0.9142\n",
            "Epoch 9/10\n",
            "600/600 [==============================] - 2s 3ms/step - loss: 0.0128 - accuracy: 0.9187\n",
            "Epoch 10/10\n",
            "600/600 [==============================] - 2s 3ms/step - loss: 0.0123 - accuracy: 0.9220\n"
          ],
          "name": "stdout"
        },
        {
          "output_type": "execute_result",
          "data": {
            "text/plain": [
              "<tensorflow.python.keras.callbacks.History at 0x7f98c020f6a0>"
            ]
          },
          "metadata": {
            "tags": []
          },
          "execution_count": 29
        }
      ]
    },
    {
      "cell_type": "code",
      "metadata": {
        "id": "7jzON7-P9nWC",
        "colab_type": "code",
        "colab": {}
      },
      "source": [
        "### step03. predict"
      ],
      "execution_count": 0,
      "outputs": []
    },
    {
      "cell_type": "code",
      "metadata": {
        "id": "tMG9vxWl95Jv",
        "colab_type": "code",
        "colab": {
          "base_uri": "https://localhost:8080/",
          "height": 90
        },
        "outputId": "e153eda8-2f3f-4ba7-e236-153d760447fe"
      },
      "source": [
        "y_pred = model.predict_classes(x_test)"
      ],
      "execution_count": 31,
      "outputs": [
        {
          "output_type": "stream",
          "text": [
            "WARNING:tensorflow:From <ipython-input-31-bae1a118294d>:1: Sequential.predict_classes (from tensorflow.python.keras.engine.sequential) is deprecated and will be removed after 2021-01-01.\n",
            "Instructions for updating:\n",
            "Please use instead:* `np.argmax(model.predict(x), axis=-1)`,   if your model does multi-class classification   (e.g. if it uses a `softmax` last-layer activation).* `(model.predict(x) > 0.5).astype(\"int32\")`,   if your model does binary classification   (e.g. if it uses a `sigmoid` last-layer activation).\n"
          ],
          "name": "stdout"
        }
      ]
    },
    {
      "cell_type": "code",
      "metadata": {
        "id": "PWaJX3gc-Ga6",
        "colab_type": "code",
        "colab": {
          "base_uri": "https://localhost:8080/",
          "height": 35
        },
        "outputId": "a5156e95-e31f-4154-e946-fa84b6779337"
      },
      "source": [
        "y_pred"
      ],
      "execution_count": 32,
      "outputs": [
        {
          "output_type": "execute_result",
          "data": {
            "text/plain": [
              "array([7, 2, 1, ..., 4, 5, 6])"
            ]
          },
          "metadata": {
            "tags": []
          },
          "execution_count": 32
        }
      ]
    },
    {
      "cell_type": "code",
      "metadata": {
        "id": "hFhWdLrH-LD0",
        "colab_type": "code",
        "colab": {
          "base_uri": "https://localhost:8080/",
          "height": 300
        },
        "outputId": "9c10df83-b491-4ada-e5a1-6312759a744c"
      },
      "source": [
        "n = 5566\n",
        "\n",
        "print('神經網路預測', y_pred[n])\n",
        "plt.imshow(x_test[n].reshape(28,28), cmap='Greys')"
      ],
      "execution_count": 34,
      "outputs": [
        {
          "output_type": "stream",
          "text": [
            "神經網路預測 1\n"
          ],
          "name": "stdout"
        },
        {
          "output_type": "execute_result",
          "data": {
            "text/plain": [
              "<matplotlib.image.AxesImage at 0x7f98c00aaef0>"
            ]
          },
          "metadata": {
            "tags": []
          },
          "execution_count": 34
        },
        {
          "output_type": "display_data",
          "data": {
            "image/png": "[encoded data removed]",
            "text/plain": [
              "<Figure size 432x288 with 1 Axes>"
            ]
          },
          "metadata": {
            "tags": [],
            "needs_background": "light"
          }
        }
      ]
    },
    {
      "cell_type": "code",
      "metadata": {
        "id": "Nnxr0dF1-lXr",
        "colab_type": "code",
        "colab": {}
      },
      "source": [
        "from google.colab import drive"
      ],
      "execution_count": 0,
      "outputs": []
    },
    {
      "cell_type": "code",
      "metadata": {
        "id": "w0clPid3---z",
        "colab_type": "code",
        "colab": {
          "base_uri": "https://localhost:8080/",
          "height": 126
        },
        "outputId": "559b4601-ae2c-47a9-98e6-cded2046274c"
      },
      "source": [
        "drive.mount('/content/drive')"
      ],
      "execution_count": 36,
      "outputs": [
        {
          "output_type": "stream",
          "text": [
            "Go to this URL in a browser: https://accounts.google.com/o/oauth2/auth?client_id=947318989803-6bn6qk8qdgf4n4g3pfee6491hc0brc4i.apps.googleusercontent.com&redirect_uri=urn%3aietf%3awg%3aoauth%3a2.0%3aoob&response_type=code&scope=email%20https%3a%2f%2fwww.googleapis.com%2fauth%2fdocs.test%20https%3a%2f%2fwww.googleapis.com%2fauth%2fdrive%20https%3a%2f%2fwww.googleapis.com%2fauth%2fdrive.photos.readonly%20https%3a%2f%2fwww.googleapis.com%2fauth%2fpeopleapi.readonly\n",
            "\n",
            "Enter your authorization code:\n",
            "··········\n",
            "Mounted at /content/drive\n"
          ],
          "name": "stdout"
        }
      ]
    },
    {
      "cell_type": "code",
      "metadata": {
        "id": "fmCcBdpR_HjT",
        "colab_type": "code",
        "colab": {
          "base_uri": "https://localhost:8080/",
          "height": 35
        },
        "outputId": "1f693811-d17d-471c-af7f-5d385e37e55b"
      },
      "source": [
        "%cd '/content/drive/My Drive'"
      ],
      "execution_count": 37,
      "outputs": [
        {
          "output_type": "stream",
          "text": [
            "/content/drive/My Drive\n"
          ],
          "name": "stdout"
        }
      ]
    },
    {
      "cell_type": "code",
      "metadata": {
        "id": "PgoXJHCt_hy_",
        "colab_type": "code",
        "colab": {
          "base_uri": "https://localhost:8080/",
          "height": 1000
        },
        "outputId": "19fbe570-e16e-48ec-a4a3-d44a9c8df7dc"
      },
      "source": [
        "%ls"
      ],
      "execution_count": 38,
      "outputs": [
        {
          "output_type": "stream",
          "text": [
            "'103學年度第一學期炎龍老師 Office Hours 票選.gform'\n",
            "'103學年度第一學期炎龍老師 Office Hours 票選 (Responses).gsheet'\n",
            " 1042MOOC微積分小班.gsheet\n",
            " 1042微積分名單期中修正.gsheet\n",
            " \u001b[0m\u001b[01;34m104幾何學筆記\u001b[0m/\n",
            " 1051數學、邏輯與人生.gsheet\n",
            "\u001b[01;34m'1052 數學軟體應用 Deep Learning'\u001b[0m/\n",
            " 1052數學邏輯與人生期末名單.gsheet\n",
            " 105索贈清單.xlsx.gsheet\n",
            " 1061數學、邏輯與人生分班名單09月版.gsheet\n",
            " 1061線性代數名單.gsheet\n",
            " 2006機種復習.gdoc\n",
            "'2009 年政大應用數理資人才培訓回顧與展望.gdoc'\n",
            "\u001b[01;34m'2018 炎龍老師全家福輸出Jpeg'\u001b[0m/\n",
            "'2019 [M] 資訊第二專長班.gsheet'\n",
            "'2019 資訊第二專長班.gsheet'\n",
            " autoencoder_modified.ipynb\n",
            " bird.gsheet\n",
            " Boston.gmap\n",
            "\u001b[01;34m'Colab Notebooks'\u001b[0m/\n",
            "'Copy of User Guide template.gdoc'\n",
            "'Copy of 空少的咖啡之旅 World Coffee Shops Map.gmap'\n",
            "'Deep Learning 論文研討清單.gsheet'\n",
            " \u001b[01;34mdeeptest\u001b[0m/\n",
            "'\\documentclass{article}.gdoc'\n",
            "'Espresso 咖啡機的選擇.gdoc'\n",
            " foo.tex.gdoc\n",
            " \u001b[01;34mGANs\u001b[0m/\n",
            "'Geogebra Test'\n",
            "'Google 文件的試用.gdoc'\n",
            " \u001b[01;34mJupyter\u001b[0m/\n",
            "'Keyboard List.gsheet'\n",
            " \u001b[01;34mLaTeX\u001b[0m/\n",
            "'Mac OS Unix 系統指令.gdoc'\n",
            "'Matlab 採購:.gdoc'\n",
            "'Michigan (1).gmap'\n",
            " Michigan.gmap\n",
            "'Mike Liu 文集.gdoc'\n",
            "'Moodle 極速入門.gdoc'\n",
            " myid.png\n",
            "'myid - Yen-Lung Tsai.png'\n",
            "'[NCTS] Python 機器學習與人工智慧入門.gform'\n",
            "'new design fundamentals.pdf'\n",
            "'Objective-C 筆記.gdoc'\n",
            " PID.gdoc\n",
            " post.jpg\n",
            "'post - Yen-Lung Tsai.jpg'\n",
            " \u001b[01;34mpublic\u001b[0m/\n",
            "'PyCon APAC 2015 Contact Book.gsheet'\n",
            "'Python 和數學.gdoc'\n",
            "'Rancilio Silvia.gdoc'\n",
            " roster_math1052_0526.csv\n",
            "'Rotary Pump and Vibration Pump.gdoc'\n",
            " \u001b[01;34mShare\u001b[0m/\n",
            "'The Best Coffee Shops in Boston.gmap'\n",
            " T子的北京地圖.gmap\n",
            "'Untitled document (1).gdoc'\n",
            "'Untitled document (2).gdoc'\n",
            "'Untitled document (3).gdoc'\n",
            "'Untitled document (4).gdoc'\n",
            "'Untitled document (5).gdoc'\n",
            "'Untitled document (6).gdoc'\n",
            "'Untitled document (7).gdoc'\n",
            "'Untitled document.gdoc'\n",
            "'Untitled form [Form].gform'\n",
            "'Untitled form.gsheet'\n",
            " yenlung.png\n",
            "'yenlung - Yen-Lung Tsai.png'\n",
            "'一個測試的報名 [Form].gform'\n",
            " 一個測試的報名.gsheet\n",
            " 南加州.gmap\n",
            " 台中.gmap\n",
            " 台北附近賞鳥景點.gmap\n",
            " 咖啡店.gmap\n",
            " \u001b[01;34m報名系統\u001b[0m/\n",
            " 填平和填壓的技巧.gdoc\n",
            " \u001b[01;34m學生名單\u001b[0m/\n",
            " 宜蘭景點.gmap\n",
            "'從 Google 筆記本匯入 - Maxima 速記.gdoc'\n",
            "'從 Google 筆記本匯入 - My Notebook.gdoc'\n",
            "'從 Google 筆記本匯入 - 網頁技術筆記.gdoc'\n",
            "'從 Google 筆記本匯入 - 鳥的記事.gdoc'\n",
            " 成績單.gdoc\n",
            " \u001b[01;34m我愛計算機程式\u001b[0m/\n",
            " 我的地圖.gmap\n",
            "'我越來越發現, 除非買的是 La Marzocco GS3 之流, 否則看....gdoc'\n",
            " 政治大學應用數學系.gmap\n",
            "'教學實驗網站 - Contact me [Contact me].gform'\n",
            "'教學實驗網站 - Contact me.gsheet'\n",
            " \u001b[01;34m教學網\u001b[0m/\n",
            " 教發中心數位學習組「數位精進」系列.gdoc\n",
            " 數位相機選擇.gsheet\n",
            " 數學、邏輯與人生期末小組成員互評.gform\n",
            "'數學、邏輯與人生期末小組成員互評 (Responses).gsheet'\n",
            " 是不是可以輸入數學符號。.gdoc\n",
            " 朋友家.gmap\n",
            " \u001b[01;34m流程圖\u001b[0m/\n",
            " \u001b[01;34m測試\u001b[0m/\n",
            " \u001b[01;34m澳大學生心得\u001b[0m/\n",
            "'炎龍教學實驗網 - Contact me [Contact me].gform'\n",
            "'炎龍教學實驗網 - Contact me.gsheet'\n",
            "'炎龍教學實驗網 - Sample presentation.gslides'\n",
            "'炎龍教學實驗網 - Untitled form.gsheet'\n",
            "'炎龍教學實驗網 - Untitled form [問題].gform'\n",
            "'炎龍老師 100 學年度上學期 Office Hours 時間調查表 [Form].gform'\n",
            "'炎龍老師 100 學年度上學期 Office Hours 時間調查表.gsheet'\n",
            "'炎龍老師 102 學年度第 2 學期 Office Hours 時間調查表.gform'\n",
            "'炎龍老師 102 學年度第 2 學期 Office Hours 時間調查表 (Responses).gsheet'\n",
            " 熱交換機的「放水」技巧.gdoc\n",
            "'磨課師課程評量問卷-微積分 (Recovered).gform'\n",
            " \u001b[01;34m第一梯次雲霄飛車作業\u001b[0m/\n",
            " 細粉對咖啡沖泡的影響.gdoc\n",
            " 花東地區美食景點.gmap\n",
            " 裝模作樣學習法.gdoc\n",
            " 賞鳥地點.gmap\n",
            " 餐廳.gmap\n"
          ],
          "name": "stdout"
        }
      ]
    },
    {
      "cell_type": "code",
      "metadata": {
        "id": "XFbBwx84_kzv",
        "colab_type": "code",
        "colab": {}
      },
      "source": [
        "print( )"
      ],
      "execution_count": 0,
      "outputs": []
    }
  ]
}