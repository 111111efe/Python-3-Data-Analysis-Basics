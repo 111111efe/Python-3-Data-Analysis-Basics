{
 "cells": [
  {
   "cell_type": "markdown",
   "metadata": {},
   "source": [
    "![Title](images/title.png)"
   ]
  },
  {
   "cell_type": "markdown",
   "metadata": {},
   "source": [
    "## [準備] Anaconda\n",
    "\n",
    "### [1] 下載\n",
    "\n",
    "Anaconda 可以說是 Python 數據分析的大補帖, 把許多重要的套件都打包好, 方便使用。\n",
    "\n",
    "[Anaconda 下載區](https://www.anaconda.com/distribution/)\n",
    "\n",
    "請下載 Python 3 的版本。"
   ]
  },
  {
   "cell_type": "markdown",
   "metadata": {},
   "source": [
    "### [2] `conda` 套件管理\n",
    "\n",
    "`conda` 是 Anaconda 的套件管理程式, 通常用 `conda` 裝的比 `pip` 裝更和 Anaconda 相容、穩定。比如我們想裝 Deep Learning 開發套件 `tensorflow` 和 `keras`, 就是在終端機 (或 Windows 的 `Anaconda Prompt`) 打入:\n",
    "\n",
    "    conda install tensorflow\n",
    "    conda install keras"
   ]
  },
  {
   "cell_type": "markdown",
   "metadata": {},
   "source": [
    "### [3] Python 的數據分析套件\n",
    "\n",
    "Python 常用的數據分析套件, 基本 Anaconda 都幫我們裝好了! (只差前面提到的深度學習的部份)\n",
    "\n",
    "![Python數據分析套件](images/packages.png)\n",
    "\n"
   ]
  },
  {
   "cell_type": "markdown",
   "metadata": {},
   "source": [
    "## 01. Jupyter Notebook\n",
    "\n",
    "Jupyter Notebook 儼然成為當今數據分析／深度學習的主流平台。我們來看看 Jupyter Notebook 到底有什麼魅力, 會讓大家那麼喜愛!\n",
    "\n",
    "### [1] 打開 Jupyter Notebook\n",
    "\n",
    "Jupyter Notebook 是一個網路界面, 簡單說就是在你的電腦上打開一個只有你可以用的網頁伺服器 (事實上也可設定遠端使用)\n",
    "\n",
    "![開始 Jupyter Notebook](images/open_jupyter.png)"
   ]
  },
  {
   "cell_type": "markdown",
   "metadata": {},
   "source": [
    "### [2] CoLab\n",
    "\n",
    "其實我們也可以不用安裝, 就有「免費」GPU/TPU 支援的 Jupyter Notebook, 基本套件包括 `tensorflow` 也都幫我們裝好。這麼好康的就是 Google 提供的 CoLab:\n",
    "\n",
    "[Google CoLab](https://colab.research.google.com/)"
   ]
  },
  {
   "cell_type": "markdown",
   "metadata": {},
   "source": [
    "### [3] 讀入基本套件\n",
    "\n",
    "我們讀入數據分析用到的一些基本套件。"
   ]
  },
  {
   "cell_type": "code",
   "execution_count": 1,
   "metadata": {},
   "outputs": [],
   "source": [
    "%matplotlib inline\n",
    "\n",
    "import numpy as np\n",
    "import matplotlib.pyplot as plt\n",
    "import pandas as pd"
   ]
  },
  {
   "cell_type": "markdown",
   "metadata": {},
   "source": [
    "### [4] 來畫個圖\n",
    "\n",
    "Python 畫圖的指令, 我們最需要學只有兩個:\n",
    "\n",
    "1. `plt.plot`\n",
    "2. `plt.scatter`\n",
    "\n",
    "我們先來試 `plt.plot`。"
   ]
  },
  {
   "cell_type": "code",
   "execution_count": 2,
   "metadata": {},
   "outputs": [
    {
     "data": {
      "text/plain": [
       "[<matplotlib.lines.Line2D at 0x1172db3c8>]"
      ]
     },
     "execution_count": 2,
     "metadata": {},
     "output_type": "execute_result"
    },
    {
     "data": {
      "image/png": "[encoded data removed]",
      "text/plain": [
       "<Figure size 432x288 with 1 Axes>"
      ]
     },
     "metadata": {},
     "output_type": "display_data"
    }
   ],
   "source": [
    "plt.plot([1, 37, 25, 68])"
   ]
  },
  {
   "cell_type": "markdown",
   "metadata": {},
   "source": [
    "這其實就是把 y 座標為 1, 37, 25, 68 的點, 補上 x 座標 0, 1, 2, 3 連起來的折線圖。這是 Python 最基本的畫圖法。\n",
    "\n",
    "如果 x 座標也自己給的話, 也就是比較完整的畫圖方式是\n",
    "\n",
    "    plt.plot(X, Y)\n",
    "\n",
    "其中 X 是點的 x 座標; Y 是點的 y 座標。\n",
    "\n",
    "比如說, 最常見的是, 我們畫一個函數, 就會決定 x 的範圍、要有多少個點, 再把我們要畫的函數畫出來。比方說我們想畫:\n",
    "\n",
    "$$f(x) = \\operatorname{sinc}(x),$$\n",
    "\n",
    "x 的範圍是 -5 到 5, 取 200 個點。"
   ]
  },
  {
   "cell_type": "code",
   "execution_count": 4,
   "metadata": {},
   "outputs": [],
   "source": [
    "x = np.linspace(-5, 5, 200)\n",
    "y = np.sinc(x)"
   ]
  },
  {
   "cell_type": "code",
   "execution_count": 5,
   "metadata": {},
   "outputs": [
    {
     "data": {
      "text/plain": [
       "[<matplotlib.lines.Line2D at 0x1173f8518>]"
      ]
     },
     "execution_count": 5,
     "metadata": {},
     "output_type": "execute_result"
    },
    {
     "data": {
      "image/png": "[encoded data removed]",
      "text/plain": [
       "<Figure size 432x288 with 1 Axes>"
      ]
     },
     "metadata": {},
     "output_type": "display_data"
    }
   ],
   "source": [
    "plt.plot(x, y)"
   ]
  },
  {
   "cell_type": "markdown",
   "metadata": {},
   "source": [
    "還可以取好高級的亂數, 從平均數 0, 標準差 1 的常態分佈中取出 n 個數字。\n",
    "\n",
    "    randn(n)\n",
    "    \n",
    "要平均值 μ, 標準差 σ 的時候呢?"
   ]
  },
  {
   "cell_type": "code",
   "execution_count": 6,
   "metadata": {},
   "outputs": [],
   "source": [
    "μ = 87\n",
    "σ = 2.5\n",
    "\n",
    "eggs = np.random.randn(100) * σ + μ"
   ]
  },
  {
   "cell_type": "markdown",
   "metadata": {},
   "source": [
    "我們來檢查這樣生出的平均值、標準差是不是我們想的那樣。"
   ]
  },
  {
   "cell_type": "code",
   "execution_count": 7,
   "metadata": {},
   "outputs": [
    {
     "data": {
      "text/plain": [
       "87.2192647929821"
      ]
     },
     "execution_count": 7,
     "metadata": {},
     "output_type": "execute_result"
    }
   ],
   "source": [
    "eggs.mean()"
   ]
  },
  {
   "cell_type": "code",
   "execution_count": 8,
   "metadata": {},
   "outputs": [
    {
     "data": {
      "text/plain": [
       "2.262955719444628"
      ]
     },
     "execution_count": 8,
     "metadata": {},
     "output_type": "execute_result"
    }
   ],
   "source": [
    "eggs.std()"
   ]
  },
  {
   "cell_type": "markdown",
   "metadata": {},
   "source": [
    "#### [小技巧] `Seaborn`\n",
    "\n",
    "只要用 `seaborn` 套件, 圖會突然變漂亮, 還有些特别的畫圖功能!"
   ]
  },
  {
   "cell_type": "code",
   "execution_count": 9,
   "metadata": {},
   "outputs": [],
   "source": [
    "import seaborn as sns"
   ]
  },
  {
   "cell_type": "code",
   "execution_count": 11,
   "metadata": {},
   "outputs": [
    {
     "name": "stderr",
     "output_type": "stream",
     "text": [
      "/Users/yenlung/anaconda3/lib/python3.6/site-packages/matplotlib/axes/_axes.py:6462: UserWarning: The 'normed' kwarg is deprecated, and has been replaced by the 'density' kwarg.\n",
      "  warnings.warn(\"The 'normed' kwarg is deprecated, and has been \"\n"
     ]
    },
    {
     "data": {
      "text/plain": [
       "<matplotlib.axes._subplots.AxesSubplot at 0x1173a49e8>"
      ]
     },
     "execution_count": 11,
     "metadata": {},
     "output_type": "execute_result"
    },
    {
     "data": {
      "image/png": "[encoded data removed]",
      "text/plain": [
       "<Figure size 432x288 with 1 Axes>"
      ]
     },
     "metadata": {},
     "output_type": "display_data"
    }
   ],
   "source": [
    "sns.distplot(eggs)"
   ]
  },
  {
   "cell_type": "markdown",
   "metadata": {},
   "source": [
    "#### [小技巧] 用希臘字母當變數\n",
    "\n",
    "Python 3 可以用希臘字母 (中文其實也可以) 當變數。在 Jupyter Notebook 中要打出希臘字母是如 LaTeX 一般, 比如說 α, 就是打入\n",
    "\n",
    "    \\alpha\n",
    "    \n",
    "然後按 `Tab` 鍵!"
   ]
  },
  {
   "cell_type": "markdown",
   "metadata": {},
   "source": [
    "#### [小技巧] 親切的輔助系統\n",
    "\n",
    "* Tab 補完神鍵\n",
    "* 函數打完不知怎麼用, 可以按\n",
    "\n",
    "![Shift-Tab](images/shift_tab.png)"
   ]
  },
  {
   "cell_type": "markdown",
   "metadata": {},
   "source": [
    "### [5] 用 `Markdown` 做筆記\n",
    "\n",
    "Cell 可以選 `Markdown` 模式, 就可以用 `Markdown` 語法做筆記。"
   ]
  },
  {
   "cell_type": "markdown",
   "metadata": {},
   "source": [
    "#### 【重點】標題\n",
    "\n",
    "`# 最大標題`\n",
    "# 最大標題\n",
    "\n",
    "`## 副標題`\n",
    "## 副標題\n",
    "\n",
    "..."
   ]
  },
  {
   "cell_type": "markdown",
   "metadata": {},
   "source": [
    "# 最大標題\n",
    "## 第二標題\n",
    "\n",
    "內文胡說八道, 還可修改"
   ]
  },
  {
   "cell_type": "markdown",
   "metadata": {},
   "source": [
    "#### 【重點】分點說明\n",
    "\n",
    "我們要學以下幾個套件:\n",
    "\n",
    "* `matplotlib`\n",
    "* `numpy`\n",
    "* `pandas`\n",
    "* `scikit-learn`"
   ]
  },
  {
   "cell_type": "markdown",
   "metadata": {},
   "source": [
    "我們要學的有\n",
    "\n",
    "* Python\n",
    "* matplotlib\n",
    "* sklearn\n",
    "* pandas"
   ]
  },
  {
   "cell_type": "markdown",
   "metadata": {},
   "source": [
    "#### 【重點】程式碼\n",
    "\n",
    "顯示程式碼有幾種方式。\n",
    "\n",
    "##### a. 前面有若干空白\n",
    "\n",
    "    for i in range(10):\n",
    "        print(i)\n",
    "        \n",
    "##### b. 內文可以用斜引號\n",
    "\n",
    "    `matplotlib`\n",
    "    \n",
    "##### c. 還可以用 3 個引號外加語言\n",
    "\n",
    "    ```python\n",
    "    for i in range(10):\n",
    "        print(i)\n",
    "    ```\n",
    "\n",
    "```python\n",
    "for i in range(10):\n",
    "    print(i)\n",
    "```"
   ]
  },
  {
   "cell_type": "markdown",
   "metadata": {},
   "source": [
    "一段程式\n",
    "\n",
    "```python\n",
    "for i in range(10):\n",
    "    print(i)\n",
    "``` "
   ]
  },
  {
   "cell_type": "markdown",
   "metadata": {},
   "source": [
    "#### 【重點】插入網頁\n",
    "\n",
    "格式如下\n",
    "\n",
    "    [網頁名稱](URL)\n",
    "    \n",
    "例如\n",
    "\n",
    "    [炎龍老師的程式](http://bit.ly/yenlung)\n",
    "    \n",
    "結果: [炎龍老師的程式](http://bit.ly/yenlung)"
   ]
  },
  {
   "cell_type": "markdown",
   "metadata": {},
   "source": [
    "#### 【重點】插入圖片\n",
    "\n",
    "    ![圖片名稱](圖片路徑)\n",
    "    \n",
    "例如\n",
    "\n",
    "    ![Happy Python](images/take_photo.png)\n",
    "    \n",
    "![Happy Python](images/take_photo.png)"
   ]
  },
  {
   "cell_type": "markdown",
   "metadata": {},
   "source": [
    "#### 【重點】輸入數學符號\n",
    "\n",
    "支援 LaTeX 指令。\n",
    "\n",
    "##### a. 隨文模式\n",
    "\n",
    "例如\n",
    "\n",
    "    設我們有函數 $f(x) = x^3 - 2x + 5$。\n",
    "    \n",
    "[結果] 設我們有函數 $f(x) = x^3 - 2x + 5$。\n",
    "\n",
    "##### b. 展式模式\n",
    "\n",
    "例如\n",
    "\n",
    "    $$\\int_a^b f(x) \\, dx$$\n",
    "\n",
    "$$\\int_a^b f(x) \\, dx$$"
   ]
  },
  {
   "cell_type": "markdown",
   "metadata": {},
   "source": [
    "### [6] 超炫的互動\n",
    "\n",
    "Jupyter Notebook 的互動模式, 提供非常好的科學計算 GUI 實驗場!"
   ]
  },
  {
   "cell_type": "markdown",
   "metadata": {},
   "source": [
    "#### [重點] 定義一個函數, 就能互動!"
   ]
  },
  {
   "cell_type": "code",
   "execution_count": 13,
   "metadata": {},
   "outputs": [],
   "source": [
    "def f(x):\n",
    "    print(x)"
   ]
  },
  {
   "cell_type": "code",
   "execution_count": 14,
   "metadata": {},
   "outputs": [],
   "source": [
    "from ipywidgets import interact"
   ]
  },
  {
   "cell_type": "markdown",
   "metadata": {},
   "source": [
    "#### 【範例】數值滑桿"
   ]
  },
  {
   "cell_type": "code",
   "execution_count": 16,
   "metadata": {},
   "outputs": [
    {
     "data": {
      "application/vnd.jupyter.widget-view+json": {
       "model_id": "db2ec34178d7439d84f2eb267fa3a3e3",
       "version_major": 2,
       "version_minor": 0
      },
      "text/plain": [
       "interactive(children=(IntSlider(value=3, description='x', max=9, min=-3), Output()), _dom_classes=('widget-int…"
      ]
     },
     "metadata": {},
     "output_type": "display_data"
    },
    {
     "data": {
      "text/plain": [
       "<function __main__.f(x)>"
      ]
     },
     "execution_count": 16,
     "metadata": {},
     "output_type": "execute_result"
    }
   ],
   "source": [
    "interact(f, x=3)"
   ]
  },
  {
   "cell_type": "markdown",
   "metadata": {},
   "source": [
    "也可以是浮點數。"
   ]
  },
  {
   "cell_type": "code",
   "execution_count": 17,
   "metadata": {},
   "outputs": [
    {
     "data": {
      "application/vnd.jupyter.widget-view+json": {
       "model_id": "bf21e9c89e8844cbb5fea9e0791795d3",
       "version_major": 2,
       "version_minor": 0
      },
      "text/plain": [
       "interactive(children=(FloatSlider(value=3.0, description='x', max=9.0, min=-3.0), Output()), _dom_classes=('wi…"
      ]
     },
     "metadata": {},
     "output_type": "display_data"
    },
    {
     "data": {
      "text/plain": [
       "<function __main__.f(x)>"
      ]
     },
     "execution_count": 17,
     "metadata": {},
     "output_type": "execute_result"
    }
   ],
   "source": [
    "interact(f, x=3.)"
   ]
  },
  {
   "cell_type": "markdown",
   "metadata": {},
   "source": [
    "還可以設範圍!"
   ]
  },
  {
   "cell_type": "code",
   "execution_count": 18,
   "metadata": {},
   "outputs": [
    {
     "data": {
      "application/vnd.jupyter.widget-view+json": {
       "model_id": "c2d03cf5a6b74fdea78e37768e24cbdc",
       "version_major": 2,
       "version_minor": 0
      },
      "text/plain": [
       "interactive(children=(IntSlider(value=5, description='x', max=10, min=1), Output()), _dom_classes=('widget-int…"
      ]
     },
     "metadata": {},
     "output_type": "display_data"
    },
    {
     "data": {
      "text/plain": [
       "<function __main__.f(x)>"
      ]
     },
     "execution_count": 18,
     "metadata": {},
     "output_type": "execute_result"
    }
   ],
   "source": [
    "interact(f, x=(1, 10))"
   ]
  },
  {
   "cell_type": "markdown",
   "metadata": {},
   "source": [
    "#### 【範例】文字框"
   ]
  },
  {
   "cell_type": "code",
   "execution_count": 19,
   "metadata": {},
   "outputs": [
    {
     "data": {
      "application/vnd.jupyter.widget-view+json": {
       "model_id": "52eec093e023464e98b915bcdef4fe2e",
       "version_major": 2,
       "version_minor": 0
      },
      "text/plain": [
       "interactive(children=(Text(value='你好', description='x'), Output()), _dom_classes=('widget-interact',))"
      ]
     },
     "metadata": {},
     "output_type": "display_data"
    },
    {
     "data": {
      "text/plain": [
       "<function __main__.f(x)>"
      ]
     },
     "execution_count": 19,
     "metadata": {},
     "output_type": "execute_result"
    }
   ],
   "source": [
    "interact(f, x=\"你好\")"
   ]
  },
  {
   "cell_type": "markdown",
   "metadata": {},
   "source": [
    "#### 【範例】下拉式選單之一"
   ]
  },
  {
   "cell_type": "code",
   "execution_count": 20,
   "metadata": {},
   "outputs": [
    {
     "data": {
      "application/vnd.jupyter.widget-view+json": {
       "model_id": "d96c4619bf9a426cb17999e6b27eb966",
       "version_major": 2,
       "version_minor": 0
      },
      "text/plain": [
       "interactive(children=(Dropdown(description='x', options=('台北', '台中', '高雄'), value='台北'), Output()), _dom_class…"
      ]
     },
     "metadata": {},
     "output_type": "display_data"
    },
    {
     "data": {
      "text/plain": [
       "<function __main__.f(x)>"
      ]
     },
     "execution_count": 20,
     "metadata": {},
     "output_type": "execute_result"
    }
   ],
   "source": [
    "interact(f, x=['台北', '台中', '高雄'])"
   ]
  },
  {
   "cell_type": "markdown",
   "metadata": {},
   "source": [
    "#### 【範例】下拉式選單之二"
   ]
  },
  {
   "cell_type": "code",
   "execution_count": 22,
   "metadata": {},
   "outputs": [
    {
     "data": {
      "application/vnd.jupyter.widget-view+json": {
       "model_id": "c4d380e7e76842269a06a0c346868be8",
       "version_major": 2,
       "version_minor": 0
      },
      "text/plain": [
       "interactive(children=(Dropdown(description='x', options={'台北': 1, '台中': 2, '高雄': 3}, value=1), Output()), _dom…"
      ]
     },
     "metadata": {},
     "output_type": "display_data"
    },
    {
     "data": {
      "text/plain": [
       "<function __main__.f(x)>"
      ]
     },
     "execution_count": 22,
     "metadata": {},
     "output_type": "execute_result"
    }
   ],
   "source": [
    "interact(f, x={'台北':1, '台中':2, '高雄':3})"
   ]
  },
  {
   "cell_type": "markdown",
   "metadata": {},
   "source": [
    "#### 【例子】會跑的蟲\n",
    "\n",
    "順便示範怎麼樣設預設值。"
   ]
  },
  {
   "cell_type": "code",
   "execution_count": 24,
   "metadata": {},
   "outputs": [],
   "source": [
    "def move(n=1):\n",
    "    print(' '*n + 'ooooo')"
   ]
  },
  {
   "cell_type": "code",
   "execution_count": 25,
   "metadata": {},
   "outputs": [
    {
     "data": {
      "application/vnd.jupyter.widget-view+json": {
       "model_id": "dc2e28f5908b4beb96d86ebe59dc7e5e",
       "version_major": 2,
       "version_minor": 0
      },
      "text/plain": [
       "interactive(children=(IntSlider(value=1, description='n', max=60, min=1), Output()), _dom_classes=('widget-int…"
      ]
     },
     "metadata": {},
     "output_type": "display_data"
    },
    {
     "data": {
      "text/plain": [
       "<function __main__.move(n=1)>"
      ]
     },
     "execution_count": 25,
     "metadata": {},
     "output_type": "execute_result"
    }
   ],
   "source": [
    "interact(move, n=(1,60))"
   ]
  },
  {
   "cell_type": "markdown",
   "metadata": {},
   "source": [
    "#### 【例子】視覺化的互動\n",
    "\n",
    "順便解釋一下 overfitiing 是什麼意思。"
   ]
  },
  {
   "cell_type": "code",
   "execution_count": 39,
   "metadata": {},
   "outputs": [],
   "source": [
    "x = np.arange(0.5, 4, 0.5)"
   ]
  },
  {
   "cell_type": "code",
   "execution_count": 40,
   "metadata": {},
   "outputs": [],
   "source": [
    "y = np.random.rand(len(x))"
   ]
  },
  {
   "cell_type": "code",
   "execution_count": 45,
   "metadata": {},
   "outputs": [
    {
     "data": {
      "text/plain": [
       "<matplotlib.collections.PathCollection at 0x119c934a8>"
      ]
     },
     "execution_count": 45,
     "metadata": {},
     "output_type": "execute_result"
    },
    {
     "data": {
      "image/png": "[encoded data removed]",
      "text/plain": [
       "<Figure size 432x288 with 1 Axes>"
      ]
     },
     "metadata": {},
     "output_type": "display_data"
    }
   ],
   "source": [
    "plt.xlim(0, 4)\n",
    "plt.ylim(-0.2, 1.2)\n",
    "plt.scatter(x,y,c='r',s=80)"
   ]
  },
  {
   "cell_type": "code",
   "execution_count": 48,
   "metadata": {},
   "outputs": [],
   "source": [
    "def myplot(n=1):\n",
    "    plt.xlim(0, 4)\n",
    "    plt.ylim(-0.2, 1.2)\n",
    "    plt.scatter(x,y,c='r',s=80)\n",
    "    \n",
    "    X = np.linspace(0,4,1000)\n",
    "    Y = 0.5*np.sin(n*X)+0.5\n",
    "    plt.plot(X, Y)"
   ]
  },
  {
   "cell_type": "code",
   "execution_count": 50,
   "metadata": {},
   "outputs": [
    {
     "data": {
      "application/vnd.jupyter.widget-view+json": {
       "model_id": "3a983dd71f5b44bc8bcc8df05a8dbb16",
       "version_major": 2,
       "version_minor": 0
      },
      "text/plain": [
       "interactive(children=(IntSlider(value=1, description='n', max=300, min=1), Output()), _dom_classes=('widget-in…"
      ]
     },
     "metadata": {},
     "output_type": "display_data"
    },
    {
     "data": {
      "text/plain": [
       "<function __main__.myplot(n=1)>"
      ]
     },
     "execution_count": 50,
     "metadata": {},
     "output_type": "execute_result"
    }
   ],
   "source": [
    "interact(myplot, n=(1, 300))"
   ]
  },
  {
   "cell_type": "markdown",
   "metadata": {},
   "source": [
    "## 02. 金融相關的數據庫\n",
    "\n",
    "### [1] `pandas-datareader`\n",
    "\n",
    "在古早以前, Pandas 其實是有內建可以讀如 Yahoo, Google 財金資料庫的功能。但是這些外部資料庫的 API 實在太常改了, 於是之後獨立出一個套件。要安裝請用:\n",
    "\n",
    "    conda install pandas-datareader"
   ]
  },
  {
   "cell_type": "code",
   "execution_count": 61,
   "metadata": {},
   "outputs": [],
   "source": [
    "import pandas_datareader as pdr"
   ]
  },
  {
   "cell_type": "code",
   "execution_count": 67,
   "metadata": {},
   "outputs": [],
   "source": [
    "df2330 = pdr.DataReader('2330.TW', 'yahoo')"
   ]
  },
  {
   "cell_type": "code",
   "execution_count": 68,
   "metadata": {
    "scrolled": true
   },
   "outputs": [
    {
     "data": {
      "text/plain": [
       "<matplotlib.axes._subplots.AxesSubplot at 0x119f54d68>"
      ]
     },
     "execution_count": 68,
     "metadata": {},
     "output_type": "execute_result"
    },
    {
     "data": {
      "image/png": "[encoded data removed]",
      "text/plain": [
       "<Figure size 432x288 with 1 Axes>"
      ]
     },
     "metadata": {},
     "output_type": "display_data"
    }
   ],
   "source": [
    "df2330.Close[-240:].plot()"
   ]
  },
  {
   "cell_type": "markdown",
   "metadata": {},
   "source": [
    "我們也可以把這個 Data Frame 存起來 (以 `pickle` 的形式。)"
   ]
  },
  {
   "cell_type": "code",
   "execution_count": 70,
   "metadata": {},
   "outputs": [],
   "source": [
    "df2330.to_pickle('tw2330.pkl')"
   ]
  },
  {
   "cell_type": "markdown",
   "metadata": {},
   "source": [
    "要讀回來是這樣做, 這裡故意用不一樣的名字, 證實真的是讀回來的資料。"
   ]
  },
  {
   "cell_type": "code",
   "execution_count": 73,
   "metadata": {},
   "outputs": [],
   "source": [
    "df = pd.read_pickle('tw2330.pkl')"
   ]
  },
  {
   "cell_type": "code",
   "execution_count": 74,
   "metadata": {},
   "outputs": [
    {
     "data": {
      "text/html": [
       "<div>\n",
       "<style scoped>\n",
       "    .dataframe tbody tr th:only-of-type {\n",
       "        vertical-align: middle;\n",
       "    }\n",
       "\n",
       "    .dataframe tbody tr th {\n",
       "        vertical-align: top;\n",
       "    }\n",
       "\n",
       "    .dataframe thead th {\n",
       "        text-align: right;\n",
       "    }\n",
       "</style>\n",
       "<table border=\"1\" class=\"dataframe\">\n",
       "  <thead>\n",
       "    <tr style=\"text-align: right;\">\n",
       "      <th></th>\n",
       "      <th>High</th>\n",
       "      <th>Low</th>\n",
       "      <th>Open</th>\n",
       "      <th>Close</th>\n",
       "      <th>Volume</th>\n",
       "      <th>Adj Close</th>\n",
       "    </tr>\n",
       "    <tr>\n",
       "      <th>Date</th>\n",
       "      <th></th>\n",
       "      <th></th>\n",
       "      <th></th>\n",
       "      <th></th>\n",
       "      <th></th>\n",
       "      <th></th>\n",
       "    </tr>\n",
       "  </thead>\n",
       "  <tbody>\n",
       "    <tr>\n",
       "      <th>2010-01-04</th>\n",
       "      <td>65.000000</td>\n",
       "      <td>64.000000</td>\n",
       "      <td>65.000000</td>\n",
       "      <td>64.900002</td>\n",
       "      <td>39407000.0</td>\n",
       "      <td>47.275986</td>\n",
       "    </tr>\n",
       "    <tr>\n",
       "      <th>2010-01-05</th>\n",
       "      <td>65.099998</td>\n",
       "      <td>63.900002</td>\n",
       "      <td>65.000000</td>\n",
       "      <td>64.500000</td>\n",
       "      <td>37138000.0</td>\n",
       "      <td>46.984604</td>\n",
       "    </tr>\n",
       "    <tr>\n",
       "      <th>2010-01-06</th>\n",
       "      <td>64.900002</td>\n",
       "      <td>63.700001</td>\n",
       "      <td>64.500000</td>\n",
       "      <td>64.900002</td>\n",
       "      <td>49261000.0</td>\n",
       "      <td>47.275986</td>\n",
       "    </tr>\n",
       "    <tr>\n",
       "      <th>2010-01-07</th>\n",
       "      <td>65.000000</td>\n",
       "      <td>64.199997</td>\n",
       "      <td>64.900002</td>\n",
       "      <td>64.199997</td>\n",
       "      <td>42134000.0</td>\n",
       "      <td>46.766075</td>\n",
       "    </tr>\n",
       "    <tr>\n",
       "      <th>2010-01-08</th>\n",
       "      <td>64.300003</td>\n",
       "      <td>63.500000</td>\n",
       "      <td>63.500000</td>\n",
       "      <td>64.000000</td>\n",
       "      <td>46076000.0</td>\n",
       "      <td>46.620388</td>\n",
       "    </tr>\n",
       "  </tbody>\n",
       "</table>\n",
       "</div>"
      ],
      "text/plain": [
       "                 High        Low       Open      Close      Volume  Adj Close\n",
       "Date                                                                         \n",
       "2010-01-04  65.000000  64.000000  65.000000  64.900002  39407000.0  47.275986\n",
       "2010-01-05  65.099998  63.900002  65.000000  64.500000  37138000.0  46.984604\n",
       "2010-01-06  64.900002  63.700001  64.500000  64.900002  49261000.0  47.275986\n",
       "2010-01-07  65.000000  64.199997  64.900002  64.199997  42134000.0  46.766075\n",
       "2010-01-08  64.300003  63.500000  63.500000  64.000000  46076000.0  46.620388"
      ]
     },
     "execution_count": 74,
     "metadata": {},
     "output_type": "execute_result"
    }
   ],
   "source": [
    "df.head()"
   ]
  },
  {
   "cell_type": "markdown",
   "metadata": {},
   "source": [
    "### [2] TEJ API\n",
    "\n",
    "TEJ 是台灣著名的金融資料庫, 最近提供 API 可直接用程式讀入資料, 十分方便。需要試用或是購買金鑰請填下表, TEJ 會有代表跟您聯繫。\n",
    "\n",
    "[https://api.tej.com.tw/qa.html](https://api.tej.com.tw/qa.html)\n",
    "\n",
    "有了金鑰, 要知道怎麼在 Python 下使用 TEJ 請參考\n",
    "\n",
    "[Python TEJ API 說明文件](https://api.tej.com.tw/document_python.html)\n",
    "\n",
    "有以下的資訊可供使用:\n",
    "\n",
    "表格代碼           | 表格名稱\n",
    "------------ | ------------------------- \n",
    "TWN/AAPRCDA | 上市(櫃)調整股價(日)-均價          \n",
    "TWN/AAPRCY1  | 上市(櫃)調整股價(年)-除權息調整\n",
    "TWN/APRCD     | 上市(櫃)未調整股價(日) \n",
    "TWN/APRCD1    | 上市(櫃)調整股價(日)-除權息調整\n",
    "TWN/APRCD2   |  上市(櫃)股價報酬(日)-報酬率\n",
    "\n",
    "記得在使用前, 需要安裝 `tejapi`, 請在終端機 (`Anaconda Prompt`) 打入:\n",
    "\n",
    "    pip install tejapi"
   ]
  },
  {
   "cell_type": "markdown",
   "metadata": {},
   "source": [
    "## 03. 準備資料\n",
    "\n",
    "我們來做一個預測股票漲跌的問題, 順便看「直接亂做」的慘狀。"
   ]
  },
  {
   "cell_type": "markdown",
   "metadata": {},
   "source": [
    "### [1] 問個問題、找個函數\n",
    "\n",
    "數據分析的過程, 不管是用線性迴歸, 任何機器學習的方式, 甚至是深度學習, 基本上只是個「打造一個函數學習機、找出我們想要找的函數」的過程。\n",
    "\n",
    "![數據分析過程](images/function_learning.png)"
   ]
  },
  {
   "cell_type": "markdown",
   "metadata": {},
   "source": [
    "我們現在就想, 「從一支股票過去一週的表現, 來預估下一週基本上是漲還是跌」這樣的問題。我們建模方式是這樣:\n",
    "\n",
    "$$x_{t-5}, x_{t-4}, x_{t-3}, x_{t-2}, x_{t-1} \\longrightarrow y_t$$\n",
    "\n",
    "其中 $x_t$ 是 $t$ 當日收盤價, 而 $y_t$ 是 $t$ 日的次一開盤日算起, 5 天數盤價平均。"
   ]
  },
  {
   "cell_type": "markdown",
   "metadata": {},
   "source": [
    "### [2] 準備資料 (輸出篇)"
   ]
  },
  {
   "cell_type": "code",
   "execution_count": 101,
   "metadata": {},
   "outputs": [],
   "source": [
    "df2 = pd.DataFrame(df.Close[:-5], columns=['Close'])"
   ]
  },
  {
   "cell_type": "markdown",
   "metadata": {},
   "source": [
    "計算 5 日的移動平均, 前幾筆都是沒法算、或沒用到的, 我們就去掉。"
   ]
  },
  {
   "cell_type": "code",
   "execution_count": 102,
   "metadata": {},
   "outputs": [
    {
     "data": {
      "text/plain": [
       "array([ 64.41999969,  64.23999939,  63.81999893, ..., 260.5       ,\n",
       "       260.3       , 260.9       ])"
      ]
     },
     "execution_count": 102,
     "metadata": {},
     "output_type": "execute_result"
    }
   ],
   "source": [
    "df.rolling(window=5).Close.mean().values[5:]"
   ]
  },
  {
   "cell_type": "markdown",
   "metadata": {},
   "source": [
    "記得 $y_t$ 是 $t+1$ 日起 5 天的平均。"
   ]
  },
  {
   "cell_type": "code",
   "execution_count": 103,
   "metadata": {},
   "outputs": [],
   "source": [
    "df2['MA5'] = df.rolling(window=5).Close.mean().values[5:]"
   ]
  },
  {
   "cell_type": "code",
   "execution_count": 104,
   "metadata": {},
   "outputs": [
    {
     "data": {
      "text/html": [
       "<div>\n",
       "<style scoped>\n",
       "    .dataframe tbody tr th:only-of-type {\n",
       "        vertical-align: middle;\n",
       "    }\n",
       "\n",
       "    .dataframe tbody tr th {\n",
       "        vertical-align: top;\n",
       "    }\n",
       "\n",
       "    .dataframe thead th {\n",
       "        text-align: right;\n",
       "    }\n",
       "</style>\n",
       "<table border=\"1\" class=\"dataframe\">\n",
       "  <thead>\n",
       "    <tr style=\"text-align: right;\">\n",
       "      <th></th>\n",
       "      <th>Close</th>\n",
       "      <th>MA5</th>\n",
       "    </tr>\n",
       "    <tr>\n",
       "      <th>Date</th>\n",
       "      <th></th>\n",
       "      <th></th>\n",
       "    </tr>\n",
       "  </thead>\n",
       "  <tbody>\n",
       "    <tr>\n",
       "      <th>2010-01-04</th>\n",
       "      <td>64.900002</td>\n",
       "      <td>64.420000</td>\n",
       "    </tr>\n",
       "    <tr>\n",
       "      <th>2010-01-05</th>\n",
       "      <td>64.500000</td>\n",
       "      <td>64.239999</td>\n",
       "    </tr>\n",
       "    <tr>\n",
       "      <th>2010-01-06</th>\n",
       "      <td>64.900002</td>\n",
       "      <td>63.819999</td>\n",
       "    </tr>\n",
       "    <tr>\n",
       "      <th>2010-01-07</th>\n",
       "      <td>64.199997</td>\n",
       "      <td>63.620000</td>\n",
       "    </tr>\n",
       "    <tr>\n",
       "      <th>2010-01-08</th>\n",
       "      <td>64.000000</td>\n",
       "      <td>63.520000</td>\n",
       "    </tr>\n",
       "  </tbody>\n",
       "</table>\n",
       "</div>"
      ],
      "text/plain": [
       "                Close        MA5\n",
       "Date                            \n",
       "2010-01-04  64.900002  64.420000\n",
       "2010-01-05  64.500000  64.239999\n",
       "2010-01-06  64.900002  63.819999\n",
       "2010-01-07  64.199997  63.620000\n",
       "2010-01-08  64.000000  63.520000"
      ]
     },
     "execution_count": 104,
     "metadata": {},
     "output_type": "execute_result"
    }
   ],
   "source": [
    "df2.head()"
   ]
  },
  {
   "cell_type": "markdown",
   "metadata": {},
   "source": [
    "### [3] 準備資料 (輸入篇)\n",
    "\n",
    "我們現在需要準備 5 天 5 天的收盤價放在一起。這不太難, 但認真想有點小技巧。"
   ]
  },
  {
   "cell_type": "code",
   "execution_count": 112,
   "metadata": {},
   "outputs": [],
   "source": [
    "n = len(df2.Close)"
   ]
  },
  {
   "cell_type": "code",
   "execution_count": 120,
   "metadata": {},
   "outputs": [
    {
     "data": {
      "text/plain": [
       "array([[   0,    1,    2,    3,    4],\n",
       "       [   1,    2,    3,    4,    5],\n",
       "       [   2,    3,    4,    5,    6],\n",
       "       ...,\n",
       "       [2280, 2281, 2282, 2283, 2284],\n",
       "       [2281, 2282, 2283, 2284, 2285],\n",
       "       [2282, 2283, 2284, 2285, 2286]])"
      ]
     },
     "execution_count": 120,
     "metadata": {},
     "output_type": "execute_result"
    }
   ],
   "source": [
    "np.arange(5) + np.arange(2283)[:,None]"
   ]
  },
  {
   "cell_type": "markdown",
   "metadata": {},
   "source": [
    "以上運用 `numpy` 的 broadcasting 功能做出來的。現在我們要把相對的收盤價放進去。"
   ]
  },
  {
   "cell_type": "code",
   "execution_count": 121,
   "metadata": {},
   "outputs": [],
   "source": [
    "idx = np.arange(5) + np.arange(2283)[:,None]"
   ]
  },
  {
   "cell_type": "code",
   "execution_count": 122,
   "metadata": {},
   "outputs": [
    {
     "data": {
      "text/plain": [
       "array([[ 64.90000153,  64.5       ,  64.90000153,  64.19999695,\n",
       "         64.        ],\n",
       "       [ 64.5       ,  64.90000153,  64.19999695,  64.        ,\n",
       "         64.5       ],\n",
       "       [ 64.90000153,  64.19999695,  64.        ,  64.5       ,\n",
       "         63.59999847],\n",
       "       ...,\n",
       "       [264.5       , 266.        , 268.        , 269.        ,\n",
       "        267.5       ],\n",
       "       [266.        , 268.        , 269.        , 267.5       ,\n",
       "        260.        ],\n",
       "       [268.        , 269.        , 267.5       , 260.        ,\n",
       "        259.5       ]])"
      ]
     },
     "execution_count": 122,
     "metadata": {},
     "output_type": "execute_result"
    }
   ],
   "source": [
    "df2.Close[idx]"
   ]
  },
  {
   "cell_type": "markdown",
   "metadata": {},
   "source": [
    "### [4] 做好棒棒的常模化\n",
    "\n",
    "因為我們其實是想看出 $x_{t-5}, x_{t-4}, \\ldots, x_{t-1}$ 有什麼樣的 patterns, 可以讓我們知道後面五天會漲還是跌。所以輸入都以第一天為基準, 做常模化。而輸出因為要和最後一天比較, 所以輸出和最後一天比較。"
   ]
  },
  {
   "cell_type": "code",
   "execution_count": 169,
   "metadata": {},
   "outputs": [],
   "source": [
    "X0 = df2.Close[idx]"
   ]
  },
  {
   "cell_type": "code",
   "execution_count": 170,
   "metadata": {},
   "outputs": [],
   "source": [
    "Y0 = df2.MA5[4:].values"
   ]
  },
  {
   "cell_type": "code",
   "execution_count": 175,
   "metadata": {},
   "outputs": [],
   "source": [
    "baseX = X0[:, 0]"
   ]
  },
  {
   "cell_type": "code",
   "execution_count": 176,
   "metadata": {},
   "outputs": [],
   "source": [
    "baseY = X0[:, 4]"
   ]
  },
  {
   "cell_type": "code",
   "execution_count": 177,
   "metadata": {},
   "outputs": [],
   "source": [
    "Y = Y0/baseY"
   ]
  },
  {
   "cell_type": "code",
   "execution_count": 178,
   "metadata": {},
   "outputs": [],
   "source": [
    "X = X0 / baseX.reshape(len(X0), 1)"
   ]
  },
  {
   "cell_type": "code",
   "execution_count": 179,
   "metadata": {},
   "outputs": [
    {
     "data": {
      "text/plain": [
       "array([[1.        , 0.99383665, 1.        , 0.98921411, 0.98613249],\n",
       "       [1.        , 1.00620157, 0.99534879, 0.99224806, 1.        ],\n",
       "       [1.        , 0.98921411, 0.98613249, 0.99383665, 0.97996914],\n",
       "       ...,\n",
       "       [1.        , 1.00567108, 1.01323251, 1.01701323, 1.01134216],\n",
       "       [1.        , 1.0075188 , 1.0112782 , 1.0056391 , 0.97744361],\n",
       "       [1.        , 1.00373134, 0.99813433, 0.97014925, 0.96828358]])"
      ]
     },
     "execution_count": 179,
     "metadata": {},
     "output_type": "execute_result"
    }
   ],
   "source": [
    "X"
   ]
  },
  {
   "cell_type": "code",
   "execution_count": 180,
   "metadata": {},
   "outputs": [
    {
     "data": {
      "text/plain": [
       "array([0.9925    , 0.97984496, 0.9902516 , ..., 0.97383178, 1.00115385,\n",
       "       1.00539499])"
      ]
     },
     "execution_count": 180,
     "metadata": {},
     "output_type": "execute_result"
    }
   ],
   "source": [
    "Y"
   ]
  },
  {
   "cell_type": "code",
   "execution_count": 188,
   "metadata": {},
   "outputs": [],
   "source": [
    "x_train = X[:1825]\n",
    "y_train = Y[:1825]"
   ]
  },
  {
   "cell_type": "code",
   "execution_count": 189,
   "metadata": {},
   "outputs": [],
   "source": [
    "x_test = X[1825:]\n",
    "y_test = Y[1825:]"
   ]
  },
  {
   "cell_type": "markdown",
   "metadata": {},
   "source": [
    "## 04. 線性迴歸\n",
    "\n",
    "準備好了, 我們先來做線性迴歸。\n",
    "\n",
    "### [1] 打開一台迴歸機"
   ]
  },
  {
   "cell_type": "code",
   "execution_count": 190,
   "metadata": {},
   "outputs": [],
   "source": [
    "from sklearn.linear_model import LinearRegression"
   ]
  },
  {
   "cell_type": "markdown",
   "metadata": {},
   "source": [
    "開一個「迴歸函數學習機」。"
   ]
  },
  {
   "cell_type": "code",
   "execution_count": 191,
   "metadata": {},
   "outputs": [],
   "source": [
    "regr = LinearRegression()"
   ]
  },
  {
   "cell_type": "markdown",
   "metadata": {},
   "source": [
    "### [2] 訓練"
   ]
  },
  {
   "cell_type": "code",
   "execution_count": 192,
   "metadata": {},
   "outputs": [
    {
     "data": {
      "text/plain": [
       "LinearRegression(copy_X=True, fit_intercept=True, n_jobs=None,\n",
       "         normalize=False)"
      ]
     },
     "execution_count": 192,
     "metadata": {},
     "output_type": "execute_result"
    }
   ],
   "source": [
    "regr.fit(x_train, y_train)"
   ]
  },
  {
   "cell_type": "markdown",
   "metadata": {},
   "source": [
    "### [3] 預測"
   ]
  },
  {
   "cell_type": "code",
   "execution_count": 193,
   "metadata": {},
   "outputs": [],
   "source": [
    "Y_pred = regr.predict(x_test)"
   ]
  },
  {
   "cell_type": "markdown",
   "metadata": {},
   "source": [
    "我們特别關心的是, 我們的迴歸機說會漲的、是不是真的漲了?"
   ]
  },
  {
   "cell_type": "code",
   "execution_count": 198,
   "metadata": {},
   "outputs": [],
   "source": [
    "YP = y_test[Y_pred > 1]"
   ]
  },
  {
   "cell_type": "markdown",
   "metadata": {},
   "source": [
    "YP 的數目就是我們迴歸機說漲了的資料。"
   ]
  },
  {
   "cell_type": "code",
   "execution_count": 205,
   "metadata": {},
   "outputs": [
    {
     "data": {
      "text/plain": [
       "336"
      ]
     },
     "execution_count": 205,
     "metadata": {},
     "output_type": "execute_result"
    }
   ],
   "source": [
    "len(YP)"
   ]
  },
  {
   "cell_type": "markdown",
   "metadata": {},
   "source": [
    "真的漲了的部份..."
   ]
  },
  {
   "cell_type": "code",
   "execution_count": 204,
   "metadata": {},
   "outputs": [
    {
     "data": {
      "text/plain": [
       "184"
      ]
     },
     "execution_count": 204,
     "metadata": {},
     "output_type": "execute_result"
    }
   ],
   "source": [
    "len(YP[YP>1])"
   ]
  },
  {
   "cell_type": "markdown",
   "metadata": {},
   "source": [
    "我們說漲了, 就真的漲了的是..."
   ]
  },
  {
   "cell_type": "code",
   "execution_count": 206,
   "metadata": {},
   "outputs": [
    {
     "data": {
      "text/plain": [
       "0.5476190476190477"
      ]
     },
     "execution_count": 206,
     "metadata": {},
     "output_type": "execute_result"
    }
   ],
   "source": [
    "184/336"
   ]
  },
  {
   "cell_type": "markdown",
   "metadata": {},
   "source": [
    "## 05. SVM\n",
    "\n",
    "前面線性迴歸的結果有點遜, 不過我們可能會覺得那是因為我們使用的方法不夠高級。現在我們來用個高級的 SVM。\n",
    "\n",
    "支持向量機, 大家都用英文縮寫 SVM 稱呼。是一個用曲線把資料分隔的辦法。在高維度的時候自然就是曲面 (超曲面) 分隔資料的方法。"
   ]
  },
  {
   "cell_type": "markdown",
   "metadata": {},
   "source": [
    "### [1] 重新為分類問題準備輸出\n",
    "\n",
    "現在我們要改成分類問題, 就是決定輸入一筆前面的狀況, 要告訴我們是漲 (1) 還是跌 (0)。"
   ]
  },
  {
   "cell_type": "code",
   "execution_count": 207,
   "metadata": {},
   "outputs": [],
   "source": [
    "from sklearn.svm import SVC"
   ]
  },
  {
   "cell_type": "markdown",
   "metadata": {},
   "source": [
    "這裡又用的一個小技巧, 把布林值改成 1 或 0。"
   ]
  },
  {
   "cell_type": "code",
   "execution_count": 211,
   "metadata": {},
   "outputs": [],
   "source": [
    "Yb = (Y>1) * 1"
   ]
  },
  {
   "cell_type": "code",
   "execution_count": 214,
   "metadata": {},
   "outputs": [],
   "source": [
    "yb_train = Yb[:1825]\n",
    "yb_test = Yb[1825:]"
   ]
  },
  {
   "cell_type": "markdown",
   "metadata": {},
   "source": [
    "### [2] 打開一台分類機"
   ]
  },
  {
   "cell_type": "code",
   "execution_count": 216,
   "metadata": {},
   "outputs": [],
   "source": [
    "clf = SVC()"
   ]
  },
  {
   "cell_type": "markdown",
   "metadata": {},
   "source": [
    "### [3] 訓練"
   ]
  },
  {
   "cell_type": "code",
   "execution_count": 217,
   "metadata": {},
   "outputs": [
    {
     "name": "stderr",
     "output_type": "stream",
     "text": [
      "/Users/yenlung/anaconda3/lib/python3.6/site-packages/sklearn/svm/base.py:196: FutureWarning: The default value of gamma will change from 'auto' to 'scale' in version 0.22 to account better for unscaled features. Set gamma explicitly to 'auto' or 'scale' to avoid this warning.\n",
      "  \"avoid this warning.\", FutureWarning)\n"
     ]
    },
    {
     "data": {
      "text/plain": [
       "SVC(C=1.0, cache_size=200, class_weight=None, coef0=0.0,\n",
       "  decision_function_shape='ovr', degree=3, gamma='auto_deprecated',\n",
       "  kernel='rbf', max_iter=-1, probability=False, random_state=None,\n",
       "  shrinking=True, tol=0.001, verbose=False)"
      ]
     },
     "execution_count": 217,
     "metadata": {},
     "output_type": "execute_result"
    }
   ],
   "source": [
    "clf.fit(x_train, yb_train)"
   ]
  },
  {
   "cell_type": "markdown",
   "metadata": {},
   "source": [
    "### [4] 預測"
   ]
  },
  {
   "cell_type": "code",
   "execution_count": 218,
   "metadata": {},
   "outputs": [],
   "source": [
    "SVM_pred = clf.predict(x_test)"
   ]
  },
  {
   "cell_type": "markdown",
   "metadata": {},
   "source": [
    "再度看一下, 我們說會漲, 就真的漲了的..."
   ]
  },
  {
   "cell_type": "code",
   "execution_count": 233,
   "metadata": {},
   "outputs": [],
   "source": [
    "YP_svm = (SVM_pred==1)"
   ]
  },
  {
   "cell_type": "code",
   "execution_count": 239,
   "metadata": {},
   "outputs": [
    {
     "data": {
      "text/plain": [
       "246"
      ]
     },
     "execution_count": 239,
     "metadata": {},
     "output_type": "execute_result"
    }
   ],
   "source": [
    "len(yb_test[yb_test[YP_svm] == 1])"
   ]
  },
  {
   "cell_type": "code",
   "execution_count": 240,
   "metadata": {},
   "outputs": [
    {
     "data": {
      "text/plain": [
       "458"
      ]
     },
     "execution_count": 240,
     "metadata": {},
     "output_type": "execute_result"
    }
   ],
   "source": [
    "len(YP_svm)"
   ]
  },
  {
   "cell_type": "code",
   "execution_count": 241,
   "metadata": {},
   "outputs": [
    {
     "data": {
      "text/plain": [
       "0.537117903930131"
      ]
     },
     "execution_count": 241,
     "metadata": {},
     "output_type": "execute_result"
    }
   ],
   "source": [
    "246/458"
   ]
  },
  {
   "cell_type": "markdown",
   "metadata": {},
   "source": [
    "## 06. 神經網路\n",
    "\n",
    "連 SVM 都沒辦法, 那一定是方法還不夠高級, 所以我們用更高級的神經網路來做做看!\n",
    "\n",
    "### [1] 讀入套件"
   ]
  },
  {
   "cell_type": "code",
   "execution_count": 243,
   "metadata": {},
   "outputs": [],
   "source": [
    "from keras.models import Sequential\n",
    "from keras.layers import Dense, Activation\n",
    "from keras.optimizers import SGD"
   ]
  },
  {
   "cell_type": "markdown",
   "metadata": {},
   "source": [
    "### [2] 打造我們的神經網路函數學習機"
   ]
  },
  {
   "cell_type": "code",
   "execution_count": 258,
   "metadata": {},
   "outputs": [],
   "source": [
    "model = Sequential()"
   ]
  },
  {
   "cell_type": "code",
   "execution_count": 259,
   "metadata": {},
   "outputs": [],
   "source": [
    "model.add(Dense(20, input_dim=5))\n",
    "model.add(Activation('relu'))"
   ]
  },
  {
   "cell_type": "code",
   "execution_count": 260,
   "metadata": {},
   "outputs": [],
   "source": [
    "model.add(Dense(20))\n",
    "model.add(Activation('relu'))"
   ]
  },
  {
   "cell_type": "code",
   "execution_count": 261,
   "metadata": {},
   "outputs": [],
   "source": [
    "model.add(Dense(1))\n",
    "model.add(Activation('sigmoid'))"
   ]
  },
  {
   "cell_type": "code",
   "execution_count": 262,
   "metadata": {},
   "outputs": [],
   "source": [
    "model.compile(loss='binary_crossentropy', optimizer='adam', metrics=['accuracy'])"
   ]
  },
  {
   "cell_type": "markdown",
   "metadata": {},
   "source": [
    "看一下我們神經網路長什麼樣子, 有沒有做錯。"
   ]
  },
  {
   "cell_type": "code",
   "execution_count": 263,
   "metadata": {},
   "outputs": [
    {
     "name": "stdout",
     "output_type": "stream",
     "text": [
      "_________________________________________________________________\n",
      "Layer (type)                 Output Shape              Param #   \n",
      "=================================================================\n",
      "dense_7 (Dense)              (None, 20)                120       \n",
      "_________________________________________________________________\n",
      "activation_7 (Activation)    (None, 20)                0         \n",
      "_________________________________________________________________\n",
      "dense_8 (Dense)              (None, 20)                420       \n",
      "_________________________________________________________________\n",
      "activation_8 (Activation)    (None, 20)                0         \n",
      "_________________________________________________________________\n",
      "dense_9 (Dense)              (None, 1)                 21        \n",
      "_________________________________________________________________\n",
      "activation_9 (Activation)    (None, 1)                 0         \n",
      "=================================================================\n",
      "Total params: 561\n",
      "Trainable params: 561\n",
      "Non-trainable params: 0\n",
      "_________________________________________________________________\n"
     ]
    }
   ],
   "source": [
    "model.summary()"
   ]
  },
  {
   "cell_type": "markdown",
   "metadata": {},
   "source": [
    "### [3] 訓練"
   ]
  },
  {
   "cell_type": "code",
   "execution_count": 264,
   "metadata": {},
   "outputs": [
    {
     "name": "stdout",
     "output_type": "stream",
     "text": [
      "Epoch 1/20\n",
      "1825/1825 [==============================] - 0s 207us/step - loss: 0.6912 - acc: 0.5381\n",
      "Epoch 2/20\n",
      "1825/1825 [==============================] - 0s 17us/step - loss: 0.6903 - acc: 0.5381\n",
      "Epoch 3/20\n",
      "1825/1825 [==============================] - 0s 15us/step - loss: 0.6904 - acc: 0.5381\n",
      "Epoch 4/20\n",
      "1825/1825 [==============================] - 0s 14us/step - loss: 0.6904 - acc: 0.5381\n",
      "Epoch 5/20\n",
      "1825/1825 [==============================] - 0s 13us/step - loss: 0.6906 - acc: 0.5381\n",
      "Epoch 6/20\n",
      "1825/1825 [==============================] - 0s 15us/step - loss: 0.6901 - acc: 0.5381\n",
      "Epoch 7/20\n",
      "1825/1825 [==============================] - 0s 14us/step - loss: 0.6903 - acc: 0.5381\n",
      "Epoch 8/20\n",
      "1825/1825 [==============================] - 0s 15us/step - loss: 0.6903 - acc: 0.5381\n",
      "Epoch 9/20\n",
      "1825/1825 [==============================] - 0s 15us/step - loss: 0.6903 - acc: 0.5381\n",
      "Epoch 10/20\n",
      "1825/1825 [==============================] - 0s 14us/step - loss: 0.6903 - acc: 0.5381\n",
      "Epoch 11/20\n",
      "1825/1825 [==============================] - 0s 15us/step - loss: 0.6903 - acc: 0.5381\n",
      "Epoch 12/20\n",
      "1825/1825 [==============================] - 0s 15us/step - loss: 0.6904 - acc: 0.5381\n",
      "Epoch 13/20\n",
      "1825/1825 [==============================] - 0s 15us/step - loss: 0.6903 - acc: 0.5381\n",
      "Epoch 14/20\n",
      "1825/1825 [==============================] - 0s 14us/step - loss: 0.6903 - acc: 0.5381\n",
      "Epoch 15/20\n",
      "1825/1825 [==============================] - 0s 15us/step - loss: 0.6902 - acc: 0.5381\n",
      "Epoch 16/20\n",
      "1825/1825 [==============================] - 0s 15us/step - loss: 0.6903 - acc: 0.5381\n",
      "Epoch 17/20\n",
      "1825/1825 [==============================] - 0s 15us/step - loss: 0.6904 - acc: 0.5381\n",
      "Epoch 18/20\n",
      "1825/1825 [==============================] - 0s 15us/step - loss: 0.6903 - acc: 0.5381\n",
      "Epoch 19/20\n",
      "1825/1825 [==============================] - 0s 15us/step - loss: 0.6903 - acc: 0.5381\n",
      "Epoch 20/20\n",
      "1825/1825 [==============================] - 0s 15us/step - loss: 0.6903 - acc: 0.5381\n"
     ]
    },
    {
     "data": {
      "text/plain": [
       "<keras.callbacks.History at 0x133cd5710>"
      ]
     },
     "execution_count": 264,
     "metadata": {},
     "output_type": "execute_result"
    }
   ],
   "source": [
    "model.fit(x_train, yb_train, batch_size=100, epochs=20)"
   ]
  },
  {
   "cell_type": "markdown",
   "metadata": {},
   "source": [
    "### [4] 預測\n",
    "\n",
    "看起來不太妙, 我們來試試預測..."
   ]
  },
  {
   "cell_type": "code",
   "execution_count": 265,
   "metadata": {},
   "outputs": [],
   "source": [
    "NN_pred = model.predict_classes(x_test)"
   ]
  },
  {
   "cell_type": "code",
   "execution_count": 330,
   "metadata": {},
   "outputs": [],
   "source": [
    "YP_NN = yb_test[(NN_pred==1).ravel()]"
   ]
  },
  {
   "cell_type": "code",
   "execution_count": 331,
   "metadata": {},
   "outputs": [
    {
     "data": {
      "text/plain": [
       "458"
      ]
     },
     "execution_count": 331,
     "metadata": {},
     "output_type": "execute_result"
    }
   ],
   "source": [
    "len(YP_NN)"
   ]
  },
  {
   "cell_type": "code",
   "execution_count": 333,
   "metadata": {},
   "outputs": [
    {
     "data": {
      "text/plain": [
       "246"
      ]
     },
     "execution_count": 333,
     "metadata": {},
     "output_type": "execute_result"
    }
   ],
   "source": [
    "len(YP_NN[YP_NN == 1])"
   ]
  },
  {
   "cell_type": "code",
   "execution_count": 334,
   "metadata": {},
   "outputs": [
    {
     "data": {
      "text/plain": [
       "0.537117903930131"
      ]
     },
     "execution_count": 334,
     "metadata": {},
     "output_type": "execute_result"
    }
   ],
   "source": [
    "246/458"
   ]
  },
  {
   "cell_type": "markdown",
   "metadata": {},
   "source": [
    "結果真是慘慘慘, 怎麼會這樣呢?"
   ]
  },
  {
   "cell_type": "markdown",
   "metadata": {},
   "source": [
    "## 07. 小結\n",
    "\n",
    "### [討論] 為什麼我們高級 SVM, NN 會比線性迴歸慘呢?\n"
   ]
  },
  {
   "cell_type": "markdown",
   "metadata": {},
   "source": [
    "### [課程]\n",
    "\n",
    "有興趣進一步知道 Python 基礎程式 (尤其是數據分析相關) 怎麼做, 可以參考政大的磨課師自學課程:\n",
    "\n",
    "[成為 Python 數據分析達人的第一門課](http://moocs.nccu.edu.tw/course/123/intro)\n",
    "\n",
    "如果是對深度學習的程式有興趣, 可以參考:\n",
    "\n",
    "[成為 Python 深度學習達人的第一堂課](http://moocs.nccu.edu.tw/course/172/intro)"
   ]
  },
  {
   "cell_type": "markdown",
   "metadata": {},
   "source": [
    "### [投影片]\n",
    "\n",
    "好了, 那你們真的怎麼做的?\n",
    "\n",
    "[人工智慧在金融預測上的應用](人工智慧在金融預測上的應用.pdf)"
   ]
  },
  {
   "cell_type": "code",
   "execution_count": null,
   "metadata": {},
   "outputs": [],
   "source": []
  }
 ],
 "metadata": {
  "kernelspec": {
   "display_name": "Python 3",
   "language": "python",
   "name": "python3"
  },
  "language_info": {
   "codemirror_mode": {
    "name": "ipython",
    "version": 3
   },
   "file_extension": ".py",
   "mimetype": "text/x-python",
   "name": "python",
   "nbconvert_exporter": "python",
   "pygments_lexer": "ipython3",
   "version": "3.6.7"
  }
 },
 "nbformat": 4,
 "nbformat_minor": 2
}
